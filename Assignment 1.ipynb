{
 "cells": [
  {
   "cell_type": "raw",
   "id": "da3128f3-53b7-4628-baa5-37d7dabca7ea",
   "metadata": {},
   "source": [
    "Q1. Create one variable containing following type of data:\n",
    "(i) string\n",
    "(ii) list\n",
    "(iii) float\n",
    "(iv) tuple"
   ]
  },
  {
   "cell_type": "code",
   "execution_count": 8,
   "id": "9ec9b213-e99a-4296-84d7-026edb2415a2",
   "metadata": {},
   "outputs": [],
   "source": [
    "string_data = 'hello pwskills'\n",
    "list_data = [1,4,9,54,3,'hello world']\n",
    "float_data = 3.14\n",
    "tuple_data = (1, \"apple\", 3.14, \"banana\")"
   ]
  },
  {
   "cell_type": "raw",
   "id": "28583b37-7896-476d-b992-27920234dc29",
   "metadata": {},
   "source": [
    "Q2. Given are some following variables containing data:\n",
    "(i) var1 = ‘ ‘\n",
    "(ii) var2 = ‘[ DS , ML , Python]’\n",
    "(iii) var3 = [ ‘DS’ , ’ML’ , ‘Python’ ]\n",
    "(iv) var4 = 1.\n",
    "What will be the data type of the above given variable."
   ]
  },
  {
   "cell_type": "raw",
   "id": "50c66ac7-b851-40ae-a47c-a11437b81047",
   "metadata": {},
   "source": [
    "(i) String\n",
    "(ii) String\n",
    "(iii) List\n",
    "(iv) Float"
   ]
  },
  {
   "cell_type": "code",
   "execution_count": null,
   "id": "1c791a84-cc29-4201-997a-2ee5f95a2fea",
   "metadata": {},
   "outputs": [],
   "source": [
    "Q3. Explain the use of the following operators using an example:\n",
    "(i) /\n",
    "(ii) %\n",
    "(iii) //\n",
    "(iv) **"
   ]
  },
  {
   "cell_type": "markdown",
   "id": "16b9f7c8-e198-4742-ba1f-de4aeca20262",
   "metadata": {},
   "source": []
  },
  {
   "cell_type": "code",
   "execution_count": 10,
   "id": "189e1b25-d21f-490b-af71-729dbfea83c9",
   "metadata": {},
   "outputs": [
    {
     "name": "stdout",
     "output_type": "stream",
     "text": [
      "3.3333333333333335\n"
     ]
    }
   ],
   "source": [
    "'''Division Operator (/):\n",
    "The division operator (/) is used to perform division between two operands.\n",
    "It returns the quotient as a floating-point number'''\n",
    "a = 10\n",
    "b = 3\n",
    "result = a / b\n",
    "print(result)"
   ]
  },
  {
   "cell_type": "code",
   "execution_count": 11,
   "id": "28f988d4-b67a-43e8-818b-b10ea0b5f05c",
   "metadata": {},
   "outputs": [
    {
     "name": "stdout",
     "output_type": "stream",
     "text": [
      "1\n"
     ]
    }
   ],
   "source": [
    "'''Modulo Operator (%):\n",
    "The modulo operator (%) returns the remainder of the division between two operands.\n",
    "It is often used to perform operations related to divisibility or to extract information cyclically.'''\n",
    "\n",
    "a = 10\n",
    "b = 3\n",
    "result = a % b\n",
    "print(result)\n",
    "\n",
    "\n",
    "\n"
   ]
  },
  {
   "cell_type": "code",
   "execution_count": 12,
   "id": "e44f8daf-2d8b-4a37-ac58-0531e81586f1",
   "metadata": {},
   "outputs": [
    {
     "name": "stdout",
     "output_type": "stream",
     "text": [
      "3\n"
     ]
    }
   ],
   "source": [
    "'''(iii) Floor Division Operator (//):\n",
    "The floor division operator (//) performs division between two operands and\n",
    "returns the largest integer less than or equal to the division result.\n",
    "It discards the decimal part of the division.'''\n",
    "\n",
    "a = 10\n",
    "b = 3\n",
    "result = a // b\n",
    "print(result)\n"
   ]
  },
  {
   "cell_type": "code",
   "execution_count": 13,
   "id": "69a3f721-129c-4a39-bf89-3a74f3677054",
   "metadata": {},
   "outputs": [
    {
     "name": "stdout",
     "output_type": "stream",
     "text": [
      "8\n"
     ]
    }
   ],
   "source": [
    "'''(iv) Exponentiation Operator ():\n",
    "The exponentiation operator () is used to raise a number to a power.\n",
    "It calculates the result of raising the first operand to the power of the second operand.'''\n",
    "\n",
    "a = 2\n",
    "b = 3\n",
    "result = a ** b\n",
    "print(result)"
   ]
  },
  {
   "cell_type": "markdown",
   "id": "d0eae0b2-889c-4c0e-af34-b22e66913a1f",
   "metadata": {},
   "source": [
    "Q4. Create a list of length 10 of your choice containing multiple types of data. Using for loop print the\n",
    "element and its data type."
   ]
  },
  {
   "cell_type": "code",
   "execution_count": 16,
   "id": "85e7d93b-3917-4a8d-8f24-70258bde27f7",
   "metadata": {},
   "outputs": [
    {
     "name": "stdout",
     "output_type": "stream",
     "text": [
      "1\n",
      "hello\n",
      "3.14\n",
      "True\n",
      "[1, 2, 3]\n",
      "{'name': 'John', 'age': 25}\n",
      "None\n",
      "(4, 5, 6)\n",
      "world\n",
      "False\n"
     ]
    }
   ],
   "source": [
    "lst = [1, 'hello', 3.14, True, [1, 2, 3], {'name': 'John', 'age': 25}, None, (4, 5, 6), 'world', False]\n",
    "for i in lst:\n",
    "    print(i)"
   ]
  },
  {
   "cell_type": "code",
   "execution_count": null,
   "id": "981ac4c6-9c28-4b5a-bae5-ae4563e4c860",
   "metadata": {},
   "outputs": [],
   "source": [
    "Q5. Using a while loop, verify if the number A is purely divisible by number B and if so then how many\n",
    "times it can be divisible."
   ]
  },
  {
   "cell_type": "code",
   "execution_count": 7,
   "id": "0c10a890-ad33-40fe-bd4b-50a0b9076b25",
   "metadata": {},
   "outputs": [
    {
     "name": "stdout",
     "output_type": "stream",
     "text": [
      "Number A can be divided by number B 3 times.\n"
     ]
    }
   ],
   "source": [
    "A = 500\n",
    "B = 5\n",
    "count = 0\n",
    "while(A%B==0):\n",
    "    A = A//B\n",
    "    count += 1\n",
    "\n",
    "print(\"Number A can be divided by number B\", count, \"times.\")"
   ]
  },
  {
   "cell_type": "markdown",
   "id": "7c8fa0f3-b62e-4011-9180-4ea6a3d3cfea",
   "metadata": {},
   "source": [
    "Q6. Create a list containing 25 int type data. Using for loop and if-else condition print if the element is\n",
    "divisible by 3 or not.\n"
   ]
  },
  {
   "cell_type": "code",
   "execution_count": 16,
   "id": "3c2d223f-7dae-4f33-868f-406d1e2b26b2",
   "metadata": {},
   "outputs": [
    {
     "name": "stdout",
     "output_type": "stream",
     "text": [
      "42 is divisible by 3\n",
      "97 is not divisible by 3\n",
      "96 is divisible by 3\n",
      "63 is divisible by 3\n",
      "57 is divisible by 3\n",
      "95 is not divisible by 3\n",
      "29 is not divisible by 3\n",
      "46 is not divisible by 3\n",
      "43 is not divisible by 3\n",
      "75 is divisible by 3\n",
      "61 is not divisible by 3\n",
      "51 is divisible by 3\n",
      "49 is not divisible by 3\n",
      "66 is divisible by 3\n",
      "67 is not divisible by 3\n",
      "69 is divisible by 3\n",
      "99 is divisible by 3\n",
      "54 is divisible by 3\n",
      "35 is not divisible by 3\n",
      "99 is divisible by 3\n",
      "66 is divisible by 3\n",
      "33 is divisible by 3\n",
      "11 is not divisible by 3\n",
      "72 is divisible by 3\n"
     ]
    }
   ],
   "source": [
    "import random\n",
    "\n",
    "random_int = [random.randint(1,100) for _ in range(1,25)]\n",
    "\n",
    "for i in random_int:\n",
    "    if i%3==0:\n",
    "        print(i, 'is divisible by 3')\n",
    "    else:\n",
    "        print(i, 'is not divisible by 3')\n",
    "        \n"
   ]
  },
  {
   "cell_type": "markdown",
   "id": "eec7e719-c869-4850-bdad-84b10f84a9f1",
   "metadata": {},
   "source": [
    "Q7. What do you understand about mutable and immutable data types? Give examples for both showing\n",
    "this property."
   ]
  },
  {
   "cell_type": "code",
   "execution_count": null,
   "id": "d387f981-3215-4d5a-b2bc-e4d832e88e13",
   "metadata": {},
   "outputs": [],
   "source": []
  }
 ],
 "metadata": {
  "kernelspec": {
   "display_name": "Python 3 (ipykernel)",
   "language": "python",
   "name": "python3"
  },
  "language_info": {
   "codemirror_mode": {
    "name": "ipython",
    "version": 3
   },
   "file_extension": ".py",
   "mimetype": "text/x-python",
   "name": "python",
   "nbconvert_exporter": "python",
   "pygments_lexer": "ipython3",
   "version": "3.10.8"
  }
 },
 "nbformat": 4,
 "nbformat_minor": 5
}
